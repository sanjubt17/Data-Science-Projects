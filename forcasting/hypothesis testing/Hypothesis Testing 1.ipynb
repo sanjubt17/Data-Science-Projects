{
 "cells": [
  {
   "cell_type": "code",
   "execution_count": 16,
   "id": "78a66c47",
   "metadata": {},
   "outputs": [],
   "source": [
    "#libraries\n",
    "import pandas as pd\n",
    "import scipy\n",
    "from scipy import stats\n",
    "import numpy as np"
   ]
  },
  {
   "cell_type": "markdown",
   "id": "f0497119",
   "metadata": {},
   "source": [
    "Hypothesis Testing Exercise,\n",
    "A F&B manager wants to determine whether there is any significant difference in the diameter of the cutlet between two units,\n",
    "at 5% significance level.\n",
    "\n",
    "Its a 2 sample 2 t-test, as we are comparing 2 units mean(diameter mean of cutlets from 2 different units)\n",
    "Defining hypothesis test:\n",
    "Ho, mu(unit A) = mu(unit B)\n",
    "Ha, mu(unit A) != mu(unit B)"
   ]
  },
  {
   "cell_type": "code",
   "execution_count": 22,
   "id": "420d0585",
   "metadata": {},
   "outputs": [
    {
     "name": "stdout",
     "output_type": "stream",
     "text": [
      "<class 'pandas.core.frame.DataFrame'>\n",
      "RangeIndex: 35 entries, 0 to 34\n",
      "Data columns (total 2 columns):\n",
      " #   Column  Non-Null Count  Dtype  \n",
      "---  ------  --------------  -----  \n",
      " 0   Unit A  35 non-null     float64\n",
      " 1   Unit B  35 non-null     float64\n",
      "dtypes: float64(2)\n",
      "memory usage: 688.0 bytes\n"
     ]
    },
    {
     "data": {
      "text/plain": [
       "(0, 2)"
      ]
     },
     "execution_count": 22,
     "metadata": {},
     "output_type": "execute_result"
    }
   ],
   "source": [
    "data_cutlets = pd.read_csv('Cutlets.csv')\n",
    "data_cutlets.info()\n",
    "data_cutlets[data_cutlets.duplicated()].shape"
   ]
  },
  {
   "cell_type": "code",
   "execution_count": 20,
   "id": "5f6dcf51",
   "metadata": {},
   "outputs": [
    {
     "data": {
      "text/plain": [
       "Ttest_indResult(statistic=0.7228688704678063, pvalue=0.4722394724599501)"
      ]
     },
     "execution_count": 20,
     "metadata": {},
     "output_type": "execute_result"
    }
   ],
   "source": [
    "arr_unit_A = data_cutlets['Unit A'].values\n",
    "arr_unit_B = data_cutlets['Unit B'].values\n",
    "\n",
    "stats.ttest_ind(arr_unit_A, arr_unit_B)"
   ]
  },
  {
   "cell_type": "markdown",
   "id": "5bc45ff0",
   "metadata": {},
   "source": [
    "significance level mentioned 0.05, translates to 95% of confidence level.\n",
    "\n",
    "result:    \n",
    "(p-value)0.472 > 0.05(alfa)\n",
    "\n",
    "its a Null hypothesis, Ho: mu(unit A) = mu(unit B),\n",
    "statistically no significant difference in the diameter of cutlets from Unit A and Unit B."
   ]
  }
 ],
 "metadata": {
  "kernelspec": {
   "display_name": "Python 3",
   "language": "python",
   "name": "python3"
  },
  "language_info": {
   "codemirror_mode": {
    "name": "ipython",
    "version": 3
   },
   "file_extension": ".py",
   "mimetype": "text/x-python",
   "name": "python",
   "nbconvert_exporter": "python",
   "pygments_lexer": "ipython3",
   "version": "3.8.8"
  }
 },
 "nbformat": 4,
 "nbformat_minor": 5
}
