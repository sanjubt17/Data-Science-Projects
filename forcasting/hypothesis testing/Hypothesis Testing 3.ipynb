{
 "cells": [
  {
   "cell_type": "code",
   "execution_count": 42,
   "id": "88100a59",
   "metadata": {},
   "outputs": [],
   "source": [
    "import pandas as pd\n",
    "import numpy as np\n",
    "import scipy\n",
    "from scipy import stats"
   ]
  },
  {
   "cell_type": "markdown",
   "id": "1f76a640",
   "metadata": {},
   "source": [
    "Sales of products in four different regions is tabulated for males and females. \n",
    "Find if male-female buyer rations are similar across regions.\n",
    "\n",
    "Defining test, as stated in problem statement,\n",
    "H0: all proportions are equal\n",
    "Ha: not all proportions are equal\n",
    "    \n",
    "As, from dataset we have to find the relationship between categorical variables, chi-squared test will be performed.\n"
   ]
  },
  {
   "cell_type": "code",
   "execution_count": 43,
   "id": "0a7e3532",
   "metadata": {},
   "outputs": [
    {
     "name": "stdout",
     "output_type": "stream",
     "text": [
      "<class 'pandas.core.frame.DataFrame'>\n",
      "RangeIndex: 2 entries, 0 to 1\n",
      "Data columns (total 5 columns):\n",
      " #   Column           Non-Null Count  Dtype \n",
      "---  ------           --------------  ----- \n",
      " 0   Observed Values  2 non-null      object\n",
      " 1   East             2 non-null      int64 \n",
      " 2   West             2 non-null      int64 \n",
      " 3   North            2 non-null      int64 \n",
      " 4   South            2 non-null      int64 \n",
      "dtypes: int64(4), object(1)\n",
      "memory usage: 208.0+ bytes\n"
     ]
    }
   ],
   "source": [
    "data_buyer = pd.read_csv('BuyerRatio.csv')\n",
    "data_buyer.info()"
   ]
  },
  {
   "cell_type": "code",
   "execution_count": 44,
   "id": "00f967db",
   "metadata": {},
   "outputs": [
    {
     "data": {
      "text/plain": [
       "array([[  50,  142,  131,   70],\n",
       "       [ 435, 1523, 1356,  750]], dtype=int64)"
      ]
     },
     "execution_count": 44,
     "metadata": {},
     "output_type": "execute_result"
    }
   ],
   "source": [
    "Observed_Values = data_buyer.iloc[:, 1:].values\n",
    "Observed_Values"
   ]
  },
  {
   "cell_type": "code",
   "execution_count": 45,
   "id": "dff19744",
   "metadata": {},
   "outputs": [
    {
     "data": {
      "text/plain": [
       "(1.595945538661058,\n",
       " 0.6603094907091882,\n",
       " 3,\n",
       " array([[  42.76531299,  146.81287862,  131.11756787,   72.30424052],\n",
       "        [ 442.23468701, 1518.18712138, 1355.88243213,  747.69575948]]))"
      ]
     },
     "execution_count": 45,
     "metadata": {},
     "output_type": "execute_result"
    }
   ],
   "source": [
    "val = stats.chi2_contingency(data_buyer.iloc[:,1:].values)#(dataset_table.values)\n",
    "val"
   ]
  },
  {
   "cell_type": "code",
   "execution_count": 46,
   "id": "e3616e22",
   "metadata": {},
   "outputs": [
    {
     "data": {
      "text/plain": [
       "array([[  42.76531299,  146.81287862,  131.11756787,   72.30424052],\n",
       "       [ 442.23468701, 1518.18712138, 1355.88243213,  747.69575948]])"
      ]
     },
     "execution_count": 46,
     "metadata": {},
     "output_type": "execute_result"
    }
   ],
   "source": [
    "Expected_Values = val[3]\n",
    "Expected_Values"
   ]
  },
  {
   "cell_type": "code",
   "execution_count": 57,
   "id": "1f0abf67",
   "metadata": {},
   "outputs": [
    {
     "name": "stdout",
     "output_type": "stream",
     "text": [
      "chi-square statistic:  1.5152956451130446\n"
     ]
    }
   ],
   "source": [
    "chi_square = sum([(o-e)**2./e for o,e in zip(Observed_Values, Expected_Values)])\n",
    "chi_square_statistic = chi_square[0]+chi_square[1]\n",
    "\n",
    "print(\"chi-square statistic: \", chi_square_statistic)"
   ]
  },
  {
   "cell_type": "code",
   "execution_count": 58,
   "id": "e89c1373",
   "metadata": {},
   "outputs": [],
   "source": [
    "no_of_rows = len(dataset_table.iloc[:,0])\n",
    "no_of_columns = len(dataset_table.iloc[0,:])\n",
    "ddof = (no_of_rows-1)*(no_of_columns-1)\n",
    "\n",
    "alpha = 0.05\n",
    "\n",
    "critical_value = chi2.ppf(q=1-alpha, df=ddof)"
   ]
  },
  {
   "cell_type": "code",
   "execution_count": 59,
   "id": "beaa4093",
   "metadata": {},
   "outputs": [
    {
     "name": "stdout",
     "output_type": "stream",
     "text": [
      "chi-square :         1.5152956451130446\n",
      "Critical value:      7.814727903251179\n",
      "p-value:             0.6787446296467897\n",
      "Significance level:  0.05\n",
      "Degree of Freedom:   3\n"
     ]
    }
   ],
   "source": [
    "#p-value\n",
    "p_value = 1-chi2.cdf(x=chi_square_statistic, df=ddof)\n",
    "\n",
    "print(\"chi-square :        \", chi_square_statistic)\n",
    "print('Critical value:     ', critical_value)\n",
    "print('p-value:            ', p_value)\n",
    "print('Significance level: ', alpha)\n",
    "print('Degree of Freedom:  ', ddof)"
   ]
  },
  {
   "cell_type": "markdown",
   "id": "64631fb6",
   "metadata": {},
   "source": [
    "\n",
    "chi_square_statistic < critical_value (1.515<7.814):\n",
    "    Retain H0, There is no relationship between 2 categorical variables,\n",
    "    all proportions are equal\n",
    "    \n",
    "p_value > alpha (0.678>0.05):\n",
    "    Retain H0, There is no relationship between 2 categorical variables.\n",
    "    "
   ]
  }
 ],
 "metadata": {
  "kernelspec": {
   "display_name": "Python 3",
   "language": "python",
   "name": "python3"
  },
  "language_info": {
   "codemirror_mode": {
    "name": "ipython",
    "version": 3
   },
   "file_extension": ".py",
   "mimetype": "text/x-python",
   "name": "python",
   "nbconvert_exporter": "python",
   "pygments_lexer": "ipython3",
   "version": "3.8.8"
  }
 },
 "nbformat": 4,
 "nbformat_minor": 5
}
