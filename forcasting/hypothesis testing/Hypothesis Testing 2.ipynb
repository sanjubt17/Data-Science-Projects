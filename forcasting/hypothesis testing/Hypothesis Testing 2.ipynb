{
 "cells": [
  {
   "cell_type": "code",
   "execution_count": 1,
   "id": "3bab150d",
   "metadata": {},
   "outputs": [],
   "source": [
    "import pandas as pd\n",
    "import scipy.stats as stats"
   ]
  },
  {
   "cell_type": "markdown",
   "id": "0b7d1d4b",
   "metadata": {},
   "source": [
    "   A hospital wants to determine whether there is any difference in the average Turn Around Time (TAT) of reports of \n",
    "the laboratories on their preferred list. They collected a random sample and recorded TAT for reports of 4 laboratories. \n",
    "TAT is defined as sample collected to report dispatch.\n",
    "   \n",
    "Analyze the data and determine whether there is any difference in average TAT among the different \n",
    "laboratories at 5% significance level.\n",
    "->\n",
    "\n",
    "Its ANOVA test, as we are comparing means of more than 2 samples.\n",
    "\n",
    "Defining hypothesis test\n",
    "Null hypothesis\n",
    "Ho: mu(Lab 1) = mu(Lab 2) = mu(Lab 3) = mu(Lab 4), average TAT among laboratories as statistically same.\n",
    "Alternate hypothesis, \n",
    "Ha: At least one mean is different, statistically significant difference in the average TAT among the different laboratories"
   ]
  },
  {
   "cell_type": "code",
   "execution_count": 3,
   "id": "34f750a2",
   "metadata": {},
   "outputs": [
    {
     "name": "stdout",
     "output_type": "stream",
     "text": [
      "<class 'pandas.core.frame.DataFrame'>\n",
      "RangeIndex: 120 entries, 0 to 119\n",
      "Data columns (total 4 columns):\n",
      " #   Column        Non-Null Count  Dtype  \n",
      "---  ------        --------------  -----  \n",
      " 0   Laboratory 1  120 non-null    float64\n",
      " 1   Laboratory 2  120 non-null    float64\n",
      " 2   Laboratory 3  120 non-null    float64\n",
      " 3   Laboratory 4  120 non-null    float64\n",
      "dtypes: float64(4)\n",
      "memory usage: 3.9 KB\n"
     ]
    }
   ],
   "source": [
    "data_tat = pd.read_csv('LabTAT.csv')\n",
    "data_tat.info()"
   ]
  },
  {
   "cell_type": "code",
   "execution_count": 7,
   "id": "f4f03eb2",
   "metadata": {},
   "outputs": [
    {
     "data": {
      "text/plain": [
       "(0, 4)"
      ]
     },
     "execution_count": 7,
     "metadata": {},
     "output_type": "execute_result"
    }
   ],
   "source": [
    "data_tat[data_tat.duplicated()].shape"
   ]
  },
  {
   "cell_type": "code",
   "execution_count": 9,
   "id": "26aafcac",
   "metadata": {},
   "outputs": [
    {
     "data": {
      "text/plain": [
       "F_onewayResult(statistic=118.70421654401437, pvalue=2.1156708949992414e-57)"
      ]
     },
     "execution_count": 9,
     "metadata": {},
     "output_type": "execute_result"
    }
   ],
   "source": [
    "stats.f_oneway(data_tat.iloc[:,0], data_tat.iloc[:,1], data_tat.iloc[:,2], data_tat.iloc[:,3])"
   ]
  },
  {
   "cell_type": "markdown",
   "id": "a3435a9e",
   "metadata": {},
   "source": [
    "significance level mentioned 0.05.\n",
    "\n",
    "result:\n",
    "(p-value)2.115e^-57 < 0.05(alfa)\n",
    "\n",
    "Reject Null hypothesis, take action\n",
    "Ho: mu(Lab 1) = mu(Lab 2) = mu(Lab 3) = mu(Lab 4),\n",
    "Alternate hypothesis, \n",
    "Ha: At least one mean is different.\n",
    "    \n",
    "statistically significant difference in the average TAT among the different laboratories."
   ]
  }
 ],
 "metadata": {
  "kernelspec": {
   "display_name": "Python 3",
   "language": "python",
   "name": "python3"
  },
  "language_info": {
   "codemirror_mode": {
    "name": "ipython",
    "version": 3
   },
   "file_extension": ".py",
   "mimetype": "text/x-python",
   "name": "python",
   "nbconvert_exporter": "python",
   "pygments_lexer": "ipython3",
   "version": "3.8.8"
  }
 },
 "nbformat": 4,
 "nbformat_minor": 5
}
